{
 "cells": [
  {
   "cell_type": "code",
   "execution_count": 1,
   "metadata": {},
   "outputs": [],
   "source": [
    "import numpy as np\n",
    "import pandas as pd"
   ]
  },
  {
   "cell_type": "code",
   "execution_count": 2,
   "metadata": {},
   "outputs": [],
   "source": [
    "train_file=r'C:/Users/sr/Downloads/counterfeit_train.csv'\n",
    "test_file=r'C:/Users/sr/Downloads/counterfeit_test.csv'"
   ]
  },
  {
   "cell_type": "code",
   "execution_count": 3,
   "metadata": {},
   "outputs": [],
   "source": [
    "cf_train=pd.read_csv(train_file)\n",
    "cf_test=pd.read_csv(test_file)"
   ]
  },
  {
   "cell_type": "code",
   "execution_count": 4,
   "metadata": {},
   "outputs": [
    {
     "data": {
      "text/html": [
       "<div>\n",
       "<style scoped>\n",
       "    .dataframe tbody tr th:only-of-type {\n",
       "        vertical-align: middle;\n",
       "    }\n",
       "\n",
       "    .dataframe tbody tr th {\n",
       "        vertical-align: top;\n",
       "    }\n",
       "\n",
       "    .dataframe thead th {\n",
       "        text-align: right;\n",
       "    }\n",
       "</style>\n",
       "<table border=\"1\" class=\"dataframe\">\n",
       "  <thead>\n",
       "    <tr style=\"text-align: right;\">\n",
       "      <th></th>\n",
       "      <th>Medicine_ID</th>\n",
       "      <th>Counterfeit_Weight</th>\n",
       "      <th>DistArea_ID</th>\n",
       "      <th>Active_Since</th>\n",
       "      <th>Medicine_MRP</th>\n",
       "      <th>Medicine_Type</th>\n",
       "      <th>SidEffect_Level</th>\n",
       "      <th>Availability_rating</th>\n",
       "      <th>Area_Type</th>\n",
       "      <th>Area_City_Type</th>\n",
       "      <th>Area_dist_level</th>\n",
       "      <th>Counterfeit_Sales</th>\n",
       "    </tr>\n",
       "  </thead>\n",
       "  <tbody>\n",
       "    <tr>\n",
       "      <td>0</td>\n",
       "      <td>RRA15</td>\n",
       "      <td>13.100</td>\n",
       "      <td>Area046</td>\n",
       "      <td>1995</td>\n",
       "      <td>160.2366</td>\n",
       "      <td>Antimalarial</td>\n",
       "      <td>critical</td>\n",
       "      <td>0.070422</td>\n",
       "      <td>DownTown</td>\n",
       "      <td>Tier 1</td>\n",
       "      <td>Small</td>\n",
       "      <td>1775.5026</td>\n",
       "    </tr>\n",
       "    <tr>\n",
       "      <td>1</td>\n",
       "      <td>YVV26</td>\n",
       "      <td>NaN</td>\n",
       "      <td>Area027</td>\n",
       "      <td>1983</td>\n",
       "      <td>110.4384</td>\n",
       "      <td>Mstablizers</td>\n",
       "      <td>mild</td>\n",
       "      <td>0.013000</td>\n",
       "      <td>CityLimits</td>\n",
       "      <td>Tier 3</td>\n",
       "      <td>Medium</td>\n",
       "      <td>3069.1520</td>\n",
       "    </tr>\n",
       "    <tr>\n",
       "      <td>2</td>\n",
       "      <td>LJC15</td>\n",
       "      <td>9.025</td>\n",
       "      <td>Area046</td>\n",
       "      <td>1995</td>\n",
       "      <td>259.4092</td>\n",
       "      <td>Cardiac</td>\n",
       "      <td>mild</td>\n",
       "      <td>0.060783</td>\n",
       "      <td>DownTown</td>\n",
       "      <td>Tier 1</td>\n",
       "      <td>Small</td>\n",
       "      <td>2603.0920</td>\n",
       "    </tr>\n",
       "    <tr>\n",
       "      <td>3</td>\n",
       "      <td>GWC40</td>\n",
       "      <td>11.800</td>\n",
       "      <td>Area046</td>\n",
       "      <td>1995</td>\n",
       "      <td>99.9830</td>\n",
       "      <td>OralContraceptives</td>\n",
       "      <td>mild</td>\n",
       "      <td>0.065555</td>\n",
       "      <td>DownTown</td>\n",
       "      <td>Tier 1</td>\n",
       "      <td>Small</td>\n",
       "      <td>1101.7130</td>\n",
       "    </tr>\n",
       "    <tr>\n",
       "      <td>4</td>\n",
       "      <td>QMN13</td>\n",
       "      <td>NaN</td>\n",
       "      <td>Area019</td>\n",
       "      <td>1983</td>\n",
       "      <td>56.4402</td>\n",
       "      <td>Hreplacements</td>\n",
       "      <td>critical</td>\n",
       "      <td>0.248859</td>\n",
       "      <td>MidTownResidential</td>\n",
       "      <td>Tier 1</td>\n",
       "      <td>Small</td>\n",
       "      <td>158.9402</td>\n",
       "    </tr>\n",
       "  </tbody>\n",
       "</table>\n",
       "</div>"
      ],
      "text/plain": [
       "  Medicine_ID  Counterfeit_Weight DistArea_ID  Active_Since  Medicine_MRP  \\\n",
       "0       RRA15              13.100     Area046          1995      160.2366   \n",
       "1       YVV26                 NaN     Area027          1983      110.4384   \n",
       "2       LJC15               9.025     Area046          1995      259.4092   \n",
       "3       GWC40              11.800     Area046          1995       99.9830   \n",
       "4       QMN13                 NaN     Area019          1983       56.4402   \n",
       "\n",
       "        Medicine_Type SidEffect_Level  Availability_rating  \\\n",
       "0        Antimalarial        critical             0.070422   \n",
       "1         Mstablizers            mild             0.013000   \n",
       "2             Cardiac            mild             0.060783   \n",
       "3  OralContraceptives            mild             0.065555   \n",
       "4       Hreplacements        critical             0.248859   \n",
       "\n",
       "            Area_Type Area_City_Type Area_dist_level  Counterfeit_Sales  \n",
       "0            DownTown         Tier 1           Small          1775.5026  \n",
       "1          CityLimits         Tier 3          Medium          3069.1520  \n",
       "2            DownTown         Tier 1           Small          2603.0920  \n",
       "3            DownTown         Tier 1           Small          1101.7130  \n",
       "4  MidTownResidential         Tier 1           Small           158.9402  "
      ]
     },
     "execution_count": 4,
     "metadata": {},
     "output_type": "execute_result"
    }
   ],
   "source": [
    "cf_train.head()\n",
    "#cf_test.head()"
   ]
  },
  {
   "cell_type": "code",
   "execution_count": 5,
   "metadata": {},
   "outputs": [],
   "source": [
    "for col in ['Medicine_ID']:\n",
    "    cf_train.drop(col,1,inplace=True)\n",
    "    cf_test.drop(col,1,inplace=True)"
   ]
  },
  {
   "cell_type": "code",
   "execution_count": 6,
   "metadata": {},
   "outputs": [],
   "source": [
    "cf_train['Counterfeit_Weight'].fillna(cf_train['Counterfeit_Weight'].mean(),inplace=True)\n",
    "cf_test['Counterfeit_Weight'].fillna(cf_test['Counterfeit_Weight'].mean(),inplace=True)"
   ]
  },
  {
   "cell_type": "code",
   "execution_count": 7,
   "metadata": {},
   "outputs": [
    {
     "data": {
      "text/plain": [
       "Counterfeit_Weight     float64\n",
       "DistArea_ID             object\n",
       "Active_Since             int64\n",
       "Medicine_MRP           float64\n",
       "Medicine_Type           object\n",
       "SidEffect_Level         object\n",
       "Availability_rating    float64\n",
       "Area_Type               object\n",
       "Area_City_Type          object\n",
       "Area_dist_level         object\n",
       "dtype: object"
      ]
     },
     "execution_count": 7,
     "metadata": {},
     "output_type": "execute_result"
    }
   ],
   "source": [
    "#cf_test['Counterfeit_Weight'].isnull().sum()\n",
    "cf_test.dtypes"
   ]
  },
  {
   "cell_type": "code",
   "execution_count": 8,
   "metadata": {},
   "outputs": [
    {
     "name": "stdout",
     "output_type": "stream",
     "text": [
      "['Area046' 'Area027' 'Area019' 'Area045' 'Area018' 'Area013' 'Area017'\n",
      " 'Area010' 'Area035' 'Area049']\n",
      "[1995 1983 2000 2007 1985 2005 1996 2002 1997]\n",
      "['Antimalarial' 'Mstablizers' 'Cardiac' 'OralContraceptives'\n",
      " 'Hreplacements' 'Antiseptics' 'Statins' 'Analgesics' 'MuscleRelaxants'\n",
      " 'Antibiotics' 'Antifungal' 'Antiviral' 'Tranquilizers' 'Antacids'\n",
      " 'Antipyretics' 'Stimulants']\n",
      "['critical' 'mild']\n",
      "['DownTown' 'CityLimits' 'MidTownResidential' 'Industrial']\n",
      "[1995 1983 2000 2007 1985 2005 1996 2002 1997]\n"
     ]
    }
   ],
   "source": [
    "print(cf_train['DistArea_ID'].unique())#dummies\n",
    "print(cf_train['Active_Since'].unique())\n",
    "print(cf_train['Medicine_Type'].unique())\n",
    "print(cf_train['SidEffect_Level'].unique())\n",
    "print(cf_train['Area_Type'].unique())\n",
    "print(cf_train['Active_Since'].unique())"
   ]
  },
  {
   "cell_type": "code",
   "execution_count": 9,
   "metadata": {},
   "outputs": [],
   "source": [
    "cf_train['SidEffect_Level']=np.where(cf_train['SidEffect_Level']=='critical',1,0).astype(int)\n",
    "cf_test['SidEffect_Level']=np.where(cf_test['SidEffect_Level']=='critical',1,0).astype(int)"
   ]
  },
  {
   "cell_type": "code",
   "execution_count": 10,
   "metadata": {},
   "outputs": [],
   "source": [
    "for col in ['Medicine_Type','Area_Type','Area_City_Type','Area_dist_level',\"DistArea_ID\"]:  \n",
    "    temp=pd.get_dummies(cf_train[col],prefix=col,drop_first=True)\n",
    "    cf_train=pd.concat([temp,cf_train],1)\n",
    "    cf_train.drop([col],1,inplace=True)\n",
    "       \n",
    "    temp=pd.get_dummies(cf_test[col],prefix=col,drop_first=True)\n",
    "    cf_test=pd.concat([temp,cf_test],1)\n",
    "    cf_test.drop([col],1,inplace=True)"
   ]
  },
  {
   "cell_type": "code",
   "execution_count": 11,
   "metadata": {},
   "outputs": [
    {
     "data": {
      "text/html": [
       "<div>\n",
       "<style scoped>\n",
       "    .dataframe tbody tr th:only-of-type {\n",
       "        vertical-align: middle;\n",
       "    }\n",
       "\n",
       "    .dataframe tbody tr th {\n",
       "        vertical-align: top;\n",
       "    }\n",
       "\n",
       "    .dataframe thead th {\n",
       "        text-align: right;\n",
       "    }\n",
       "</style>\n",
       "<table border=\"1\" class=\"dataframe\">\n",
       "  <thead>\n",
       "    <tr style=\"text-align: right;\">\n",
       "      <th></th>\n",
       "      <th>DistArea_ID_Area013</th>\n",
       "      <th>DistArea_ID_Area017</th>\n",
       "      <th>DistArea_ID_Area018</th>\n",
       "      <th>DistArea_ID_Area019</th>\n",
       "      <th>DistArea_ID_Area027</th>\n",
       "      <th>DistArea_ID_Area035</th>\n",
       "      <th>DistArea_ID_Area045</th>\n",
       "      <th>DistArea_ID_Area046</th>\n",
       "      <th>DistArea_ID_Area049</th>\n",
       "      <th>Area_dist_level_Medium</th>\n",
       "      <th>...</th>\n",
       "      <th>Medicine_Type_OralContraceptives</th>\n",
       "      <th>Medicine_Type_Statins</th>\n",
       "      <th>Medicine_Type_Stimulants</th>\n",
       "      <th>Medicine_Type_Tranquilizers</th>\n",
       "      <th>Counterfeit_Weight</th>\n",
       "      <th>Active_Since</th>\n",
       "      <th>Medicine_MRP</th>\n",
       "      <th>SidEffect_Level</th>\n",
       "      <th>Availability_rating</th>\n",
       "      <th>Counterfeit_Sales</th>\n",
       "    </tr>\n",
       "  </thead>\n",
       "  <tbody>\n",
       "    <tr>\n",
       "      <td>0</td>\n",
       "      <td>0</td>\n",
       "      <td>0</td>\n",
       "      <td>0</td>\n",
       "      <td>0</td>\n",
       "      <td>0</td>\n",
       "      <td>0</td>\n",
       "      <td>0</td>\n",
       "      <td>1</td>\n",
       "      <td>0</td>\n",
       "      <td>0</td>\n",
       "      <td>...</td>\n",
       "      <td>0</td>\n",
       "      <td>0</td>\n",
       "      <td>0</td>\n",
       "      <td>0</td>\n",
       "      <td>13.100000</td>\n",
       "      <td>1995</td>\n",
       "      <td>160.2366</td>\n",
       "      <td>1</td>\n",
       "      <td>0.070422</td>\n",
       "      <td>1775.5026</td>\n",
       "    </tr>\n",
       "    <tr>\n",
       "      <td>1</td>\n",
       "      <td>0</td>\n",
       "      <td>0</td>\n",
       "      <td>0</td>\n",
       "      <td>0</td>\n",
       "      <td>1</td>\n",
       "      <td>0</td>\n",
       "      <td>0</td>\n",
       "      <td>0</td>\n",
       "      <td>0</td>\n",
       "      <td>1</td>\n",
       "      <td>...</td>\n",
       "      <td>0</td>\n",
       "      <td>0</td>\n",
       "      <td>0</td>\n",
       "      <td>0</td>\n",
       "      <td>14.115057</td>\n",
       "      <td>1983</td>\n",
       "      <td>110.4384</td>\n",
       "      <td>0</td>\n",
       "      <td>0.013000</td>\n",
       "      <td>3069.1520</td>\n",
       "    </tr>\n",
       "    <tr>\n",
       "      <td>2</td>\n",
       "      <td>0</td>\n",
       "      <td>0</td>\n",
       "      <td>0</td>\n",
       "      <td>0</td>\n",
       "      <td>0</td>\n",
       "      <td>0</td>\n",
       "      <td>0</td>\n",
       "      <td>1</td>\n",
       "      <td>0</td>\n",
       "      <td>0</td>\n",
       "      <td>...</td>\n",
       "      <td>0</td>\n",
       "      <td>0</td>\n",
       "      <td>0</td>\n",
       "      <td>0</td>\n",
       "      <td>9.025000</td>\n",
       "      <td>1995</td>\n",
       "      <td>259.4092</td>\n",
       "      <td>0</td>\n",
       "      <td>0.060783</td>\n",
       "      <td>2603.0920</td>\n",
       "    </tr>\n",
       "    <tr>\n",
       "      <td>3</td>\n",
       "      <td>0</td>\n",
       "      <td>0</td>\n",
       "      <td>0</td>\n",
       "      <td>0</td>\n",
       "      <td>0</td>\n",
       "      <td>0</td>\n",
       "      <td>0</td>\n",
       "      <td>1</td>\n",
       "      <td>0</td>\n",
       "      <td>0</td>\n",
       "      <td>...</td>\n",
       "      <td>1</td>\n",
       "      <td>0</td>\n",
       "      <td>0</td>\n",
       "      <td>0</td>\n",
       "      <td>11.800000</td>\n",
       "      <td>1995</td>\n",
       "      <td>99.9830</td>\n",
       "      <td>0</td>\n",
       "      <td>0.065555</td>\n",
       "      <td>1101.7130</td>\n",
       "    </tr>\n",
       "    <tr>\n",
       "      <td>4</td>\n",
       "      <td>0</td>\n",
       "      <td>0</td>\n",
       "      <td>0</td>\n",
       "      <td>1</td>\n",
       "      <td>0</td>\n",
       "      <td>0</td>\n",
       "      <td>0</td>\n",
       "      <td>0</td>\n",
       "      <td>0</td>\n",
       "      <td>0</td>\n",
       "      <td>...</td>\n",
       "      <td>0</td>\n",
       "      <td>0</td>\n",
       "      <td>0</td>\n",
       "      <td>0</td>\n",
       "      <td>14.115057</td>\n",
       "      <td>1983</td>\n",
       "      <td>56.4402</td>\n",
       "      <td>1</td>\n",
       "      <td>0.248859</td>\n",
       "      <td>158.9402</td>\n",
       "    </tr>\n",
       "  </tbody>\n",
       "</table>\n",
       "<p>5 rows × 38 columns</p>\n",
       "</div>"
      ],
      "text/plain": [
       "   DistArea_ID_Area013  DistArea_ID_Area017  DistArea_ID_Area018  \\\n",
       "0                    0                    0                    0   \n",
       "1                    0                    0                    0   \n",
       "2                    0                    0                    0   \n",
       "3                    0                    0                    0   \n",
       "4                    0                    0                    0   \n",
       "\n",
       "   DistArea_ID_Area019  DistArea_ID_Area027  DistArea_ID_Area035  \\\n",
       "0                    0                    0                    0   \n",
       "1                    0                    1                    0   \n",
       "2                    0                    0                    0   \n",
       "3                    0                    0                    0   \n",
       "4                    1                    0                    0   \n",
       "\n",
       "   DistArea_ID_Area045  DistArea_ID_Area046  DistArea_ID_Area049  \\\n",
       "0                    0                    1                    0   \n",
       "1                    0                    0                    0   \n",
       "2                    0                    1                    0   \n",
       "3                    0                    1                    0   \n",
       "4                    0                    0                    0   \n",
       "\n",
       "   Area_dist_level_Medium  ...  Medicine_Type_OralContraceptives  \\\n",
       "0                       0  ...                                 0   \n",
       "1                       1  ...                                 0   \n",
       "2                       0  ...                                 0   \n",
       "3                       0  ...                                 1   \n",
       "4                       0  ...                                 0   \n",
       "\n",
       "   Medicine_Type_Statins  Medicine_Type_Stimulants  \\\n",
       "0                      0                         0   \n",
       "1                      0                         0   \n",
       "2                      0                         0   \n",
       "3                      0                         0   \n",
       "4                      0                         0   \n",
       "\n",
       "   Medicine_Type_Tranquilizers  Counterfeit_Weight  Active_Since  \\\n",
       "0                            0           13.100000          1995   \n",
       "1                            0           14.115057          1983   \n",
       "2                            0            9.025000          1995   \n",
       "3                            0           11.800000          1995   \n",
       "4                            0           14.115057          1983   \n",
       "\n",
       "   Medicine_MRP  SidEffect_Level  Availability_rating  Counterfeit_Sales  \n",
       "0      160.2366                1             0.070422          1775.5026  \n",
       "1      110.4384                0             0.013000          3069.1520  \n",
       "2      259.4092                0             0.060783          2603.0920  \n",
       "3       99.9830                0             0.065555          1101.7130  \n",
       "4       56.4402                1             0.248859           158.9402  \n",
       "\n",
       "[5 rows x 38 columns]"
      ]
     },
     "execution_count": 11,
     "metadata": {},
     "output_type": "execute_result"
    }
   ],
   "source": [
    "\n",
    "\n",
    "cf_train.head()"
   ]
  },
  {
   "cell_type": "code",
   "execution_count": 12,
   "metadata": {},
   "outputs": [],
   "source": [
    "for col in['Counterfeit_Weight','Medicine_MRP','Availability_rating']:\n",
    "    cf_train[col]=(cf_train[col]).astype(int)\n",
    "    cf_test[col]=(cf_test[col]).astype(int)"
   ]
  },
  {
   "cell_type": "code",
   "execution_count": 13,
   "metadata": {},
   "outputs": [
    {
     "data": {
      "text/plain": [
       "DistArea_ID_Area013                   uint8\n",
       "DistArea_ID_Area017                   uint8\n",
       "DistArea_ID_Area018                   uint8\n",
       "DistArea_ID_Area019                   uint8\n",
       "DistArea_ID_Area027                   uint8\n",
       "DistArea_ID_Area035                   uint8\n",
       "DistArea_ID_Area045                   uint8\n",
       "DistArea_ID_Area046                   uint8\n",
       "DistArea_ID_Area049                   uint8\n",
       "Area_dist_level_Medium                uint8\n",
       "Area_dist_level_Small                 uint8\n",
       "Area_dist_level_Unknown               uint8\n",
       "Area_City_Type_Tier 2                 uint8\n",
       "Area_City_Type_Tier 3                 uint8\n",
       "Area_Type_DownTown                    uint8\n",
       "Area_Type_Industrial                  uint8\n",
       "Area_Type_MidTownResidential          uint8\n",
       "Medicine_Type_Antacids                uint8\n",
       "Medicine_Type_Antibiotics             uint8\n",
       "Medicine_Type_Antifungal              uint8\n",
       "Medicine_Type_Antimalarial            uint8\n",
       "Medicine_Type_Antipyretics            uint8\n",
       "Medicine_Type_Antiseptics             uint8\n",
       "Medicine_Type_Antiviral               uint8\n",
       "Medicine_Type_Cardiac                 uint8\n",
       "Medicine_Type_Hreplacements           uint8\n",
       "Medicine_Type_Mstablizers             uint8\n",
       "Medicine_Type_MuscleRelaxants         uint8\n",
       "Medicine_Type_OralContraceptives      uint8\n",
       "Medicine_Type_Statins                 uint8\n",
       "Medicine_Type_Stimulants              uint8\n",
       "Medicine_Type_Tranquilizers           uint8\n",
       "Counterfeit_Weight                    int32\n",
       "Active_Since                          int64\n",
       "Medicine_MRP                          int32\n",
       "SidEffect_Level                       int32\n",
       "Availability_rating                   int32\n",
       "Counterfeit_Sales                   float64\n",
       "dtype: object"
      ]
     },
     "execution_count": 13,
     "metadata": {},
     "output_type": "execute_result"
    }
   ],
   "source": [
    "cf_train.dtypes"
   ]
  },
  {
   "cell_type": "code",
   "execution_count": 14,
   "metadata": {},
   "outputs": [],
   "source": [
    "from sklearn.preprocessing import StandardScaler"
   ]
  },
  {
   "cell_type": "code",
   "execution_count": 15,
   "metadata": {},
   "outputs": [],
   "source": [
    "scalr=StandardScaler()"
   ]
  },
  {
   "cell_type": "code",
   "execution_count": 16,
   "metadata": {},
   "outputs": [
    {
     "data": {
      "text/plain": [
       "StandardScaler(copy=True, with_mean=True, with_std=True)"
      ]
     },
     "execution_count": 16,
     "metadata": {},
     "output_type": "execute_result"
    }
   ],
   "source": [
    "scalr.fit(cf_train)"
   ]
  },
  {
   "cell_type": "code",
   "execution_count": 17,
   "metadata": {},
   "outputs": [],
   "source": [
    "from sklearn.model_selection import train_test_split\n",
    "cf_train1,cf_train2=train_test_split(cf_train,test_size=0.2,random_state=2)"
   ]
  },
  {
   "cell_type": "code",
   "execution_count": 18,
   "metadata": {},
   "outputs": [],
   "source": [
    "x_train1=cf_train1.drop('Counterfeit_Sales',axis=1)\n",
    "y_train1=cf_train1['Counterfeit_Sales']"
   ]
  },
  {
   "cell_type": "code",
   "execution_count": 19,
   "metadata": {},
   "outputs": [
    {
     "data": {
      "text/plain": [
       "((5454, 37), (5454,))"
      ]
     },
     "execution_count": 19,
     "metadata": {},
     "output_type": "execute_result"
    }
   ],
   "source": [
    "x_train1.shape,y_train1.shape"
   ]
  },
  {
   "cell_type": "markdown",
   "metadata": {},
   "source": [
    "# Linear Regression"
   ]
  },
  {
   "cell_type": "code",
   "execution_count": 20,
   "metadata": {},
   "outputs": [],
   "source": [
    "#beacause its a continuoes numeric o/p"
   ]
  },
  {
   "cell_type": "code",
   "execution_count": 21,
   "metadata": {},
   "outputs": [],
   "source": [
    "from sklearn.linear_model import LinearRegression"
   ]
  },
  {
   "cell_type": "code",
   "execution_count": 22,
   "metadata": {},
   "outputs": [],
   "source": [
    "lm=LinearRegression()"
   ]
  },
  {
   "cell_type": "code",
   "execution_count": 23,
   "metadata": {},
   "outputs": [
    {
     "data": {
      "text/plain": [
       "LinearRegression(copy_X=True, fit_intercept=True, n_jobs=None, normalize=False)"
      ]
     },
     "execution_count": 23,
     "metadata": {},
     "output_type": "execute_result"
    }
   ],
   "source": [
    "lm.fit(x_train1,y_train1)"
   ]
  },
  {
   "cell_type": "code",
   "execution_count": 24,
   "metadata": {},
   "outputs": [
    {
     "data": {
      "text/plain": [
       "600514745415773.9"
      ]
     },
     "execution_count": 24,
     "metadata": {},
     "output_type": "execute_result"
    }
   ],
   "source": [
    "lm.intercept_"
   ]
  },
  {
   "cell_type": "code",
   "execution_count": 25,
   "metadata": {},
   "outputs": [
    {
     "data": {
      "text/plain": [
       "[('DistArea_ID_Area013', 13649377198.13759),\n",
       " ('DistArea_ID_Area017', -1355140538759.7632),\n",
       " ('DistArea_ID_Area018', 29796718182448.906),\n",
       " ('DistArea_ID_Area019', -4263503276487.4937),\n",
       " ('DistArea_ID_Area027', 9360683229398.172),\n",
       " ('DistArea_ID_Area035', -400359484639.9716),\n",
       " ('DistArea_ID_Area045', -2890079001798.923),\n",
       " ('DistArea_ID_Area046', -1170555581527.548),\n",
       " ('DistArea_ID_Area049', 519521149711.47156),\n",
       " ('Area_dist_level_Medium', 1029573133621.4742),\n",
       " ('Area_dist_level_Small', 2105674479639.377),\n",
       " ('Area_dist_level_Unknown', 3981418611432.3135),\n",
       " ('Area_City_Type_Tier 2', 1378717751255.6506),\n",
       " ('Area_City_Type_Tier 3', -2148407404818.67),\n",
       " ('Area_Type_DownTown', 10990582369531.37),\n",
       " ('Area_Type_Industrial', -13068330333038.82),\n",
       " ('Area_Type_MidTownResidential', 10399677751695.725),\n",
       " ('Medicine_Type_Antacids', 3.6784746646881104),\n",
       " ('Medicine_Type_Antibiotics', 75.06445598602295),\n",
       " ('Medicine_Type_Antifungal', 2.6876156330108643),\n",
       " ('Medicine_Type_Antimalarial', 14.20785677433014),\n",
       " ('Medicine_Type_Antipyretics', -53.96951627731323),\n",
       " ('Medicine_Type_Antiseptics', -16.153845369815826),\n",
       " ('Medicine_Type_Antiviral', 366.3572521805763),\n",
       " ('Medicine_Type_Cardiac', 87.37853974103928),\n",
       " ('Medicine_Type_Hreplacements', -23.188144207000732),\n",
       " ('Medicine_Type_Mstablizers', -3.9259101152420044),\n",
       " ('Medicine_Type_MuscleRelaxants', 111.65978145599365),\n",
       " ('Medicine_Type_OralContraceptives', 10.338879466056824),\n",
       " ('Medicine_Type_Statins', 71.47229337692261),\n",
       " ('Medicine_Type_Stimulants', 41.53120055049658),\n",
       " ('Medicine_Type_Tranquilizers', -63.25703239440918),\n",
       " ('Counterfeit_Weight', -4.528903961181641),\n",
       " ('Active_Since', -306987692573.09204),\n",
       " ('Medicine_MRP', 15.43463134765625),\n",
       " ('SidEffect_Level', -1.9373877048492432),\n",
       " ('Availability_rating', 0.0)]"
      ]
     },
     "execution_count": 25,
     "metadata": {},
     "output_type": "execute_result"
    }
   ],
   "source": [
    "list(zip(x_train1.columns,lm.coef_))"
   ]
  },
  {
   "cell_type": "code",
   "execution_count": 26,
   "metadata": {},
   "outputs": [],
   "source": [
    "x_train2=cf_train2.drop('Counterfeit_Sales',axis=1)"
   ]
  },
  {
   "cell_type": "code",
   "execution_count": 27,
   "metadata": {},
   "outputs": [],
   "source": [
    "predicted_sales=lm.predict(x_train2)"
   ]
  },
  {
   "cell_type": "code",
   "execution_count": 28,
   "metadata": {},
   "outputs": [
    {
     "name": "stdout",
     "output_type": "stream",
     "text": [
      "[1034.875  853.5   3887.25  3673.    1261.75  2752.125 1958.375 4310.625\n",
      " 2459.5   3530.375]\n"
     ]
    }
   ],
   "source": [
    "print(predicted_sales[:10])"
   ]
  },
  {
   "cell_type": "code",
   "execution_count": 29,
   "metadata": {},
   "outputs": [],
   "source": [
    "from sklearn.metrics import mean_absolute_error"
   ]
  },
  {
   "cell_type": "code",
   "execution_count": 30,
   "metadata": {},
   "outputs": [
    {
     "data": {
      "text/plain": [
       "829.6509870967741"
      ]
     },
     "execution_count": 30,
     "metadata": {},
     "output_type": "execute_result"
    }
   ],
   "source": [
    "mean_absolute_error(cf_train2['Counterfeit_Sales'],predicted_sales)"
   ]
  },
  {
   "cell_type": "code",
   "execution_count": 31,
   "metadata": {},
   "outputs": [],
   "source": [
    "#We know the tentative performance now, lets build the model on entire training to make prediction on\n",
    "#test/production"
   ]
  },
  {
   "cell_type": "code",
   "execution_count": 32,
   "metadata": {},
   "outputs": [],
   "source": [
    "x_train=cf_train.drop('Counterfeit_Sales',axis=1) \n",
    "y_train=cf_train['Counterfeit_Sales'] "
   ]
  },
  {
   "cell_type": "code",
   "execution_count": 33,
   "metadata": {},
   "outputs": [
    {
     "data": {
      "text/plain": [
       "LinearRegression(copy_X=True, fit_intercept=True, n_jobs=None, normalize=False)"
      ]
     },
     "execution_count": 33,
     "metadata": {},
     "output_type": "execute_result"
    }
   ],
   "source": [
    "lm.fit(x_train,y_train)"
   ]
  },
  {
   "cell_type": "code",
   "execution_count": 34,
   "metadata": {},
   "outputs": [],
   "source": [
    "test_pred=lm.predict(cf_test)"
   ]
  },
  {
   "cell_type": "code",
   "execution_count": 35,
   "metadata": {},
   "outputs": [
    {
     "data": {
      "text/plain": [
       "array([2809.35756814, 3939.61330441, 1441.49493867, ..., 2928.69360468,\n",
       "       3853.86220864, 3742.57997111])"
      ]
     },
     "execution_count": 35,
     "metadata": {},
     "output_type": "execute_result"
    }
   ],
   "source": [
    "test_pred"
   ]
  },
  {
   "cell_type": "markdown",
   "metadata": {},
   "source": [
    "# Lasso"
   ]
  },
  {
   "cell_type": "code",
   "execution_count": 36,
   "metadata": {},
   "outputs": [],
   "source": [
    "from sklearn.linear_model import Lasso\n",
    "from sklearn.model_selection import GridSearchCV"
   ]
  },
  {
   "cell_type": "code",
   "execution_count": 37,
   "metadata": {},
   "outputs": [],
   "source": [
    "params={'alpha':np.linspace(0.1,100,50)}"
   ]
  },
  {
   "cell_type": "code",
   "execution_count": 38,
   "metadata": {},
   "outputs": [],
   "source": [
    "model=Lasso(fit_intercept=True)"
   ]
  },
  {
   "cell_type": "code",
   "execution_count": 39,
   "metadata": {},
   "outputs": [],
   "source": [
    "grid_search=GridSearchCV(model,cv=10,param_grid=params,n_jobs=-1,verbose=10,\n",
    "                         scoring='neg_mean_absolute_error')"
   ]
  },
  {
   "cell_type": "code",
   "execution_count": 40,
   "metadata": {},
   "outputs": [
    {
     "name": "stdout",
     "output_type": "stream",
     "text": [
      "Fitting 10 folds for each of 50 candidates, totalling 500 fits\n"
     ]
    },
    {
     "name": "stderr",
     "output_type": "stream",
     "text": [
      "[Parallel(n_jobs=-1)]: Using backend LokyBackend with 4 concurrent workers.\n",
      "[Parallel(n_jobs=-1)]: Done   5 tasks      | elapsed:   36.0s\n",
      "[Parallel(n_jobs=-1)]: Done  10 tasks      | elapsed:   36.3s\n",
      "[Parallel(n_jobs=-1)]: Done  17 tasks      | elapsed:   36.8s\n",
      "[Parallel(n_jobs=-1)]: Done  24 tasks      | elapsed:   37.1s\n",
      "[Parallel(n_jobs=-1)]: Done  33 tasks      | elapsed:   37.4s\n",
      "[Parallel(n_jobs=-1)]: Done  42 tasks      | elapsed:   37.6s\n",
      "[Parallel(n_jobs=-1)]: Batch computation too fast (0.1934s.) Setting batch_size=2.\n",
      "[Parallel(n_jobs=-1)]: Done  53 tasks      | elapsed:   37.8s\n",
      "[Parallel(n_jobs=-1)]: Done  72 tasks      | elapsed:   38.2s\n",
      "[Parallel(n_jobs=-1)]: Done  98 tasks      | elapsed:   38.7s\n",
      "[Parallel(n_jobs=-1)]: Done 124 tasks      | elapsed:   39.1s\n",
      "[Parallel(n_jobs=-1)]: Done 154 tasks      | elapsed:   39.6s\n",
      "[Parallel(n_jobs=-1)]: Done 184 tasks      | elapsed:   40.0s\n",
      "[Parallel(n_jobs=-1)]: Batch computation too fast (0.1991s.) Setting batch_size=4.\n",
      "[Parallel(n_jobs=-1)]: Done 222 tasks      | elapsed:   40.6s\n",
      "[Parallel(n_jobs=-1)]: Done 290 tasks      | elapsed:   41.5s\n",
      "[Parallel(n_jobs=-1)]: Done 366 tasks      | elapsed:   42.6s\n",
      "[Parallel(n_jobs=-1)]: Done 442 tasks      | elapsed:   43.6s\n",
      "[Parallel(n_jobs=-1)]: Done 500 out of 500 | elapsed:   44.3s finished\n"
     ]
    },
    {
     "data": {
      "text/plain": [
       "GridSearchCV(cv=10, error_score='raise-deprecating',\n",
       "             estimator=Lasso(alpha=1.0, copy_X=True, fit_intercept=True,\n",
       "                             max_iter=1000, normalize=False, positive=False,\n",
       "                             precompute=False, random_state=None,\n",
       "                             selection='cyclic', tol=0.0001, warm_start=False),\n",
       "             iid='warn', n_jobs=-1,\n",
       "             param_grid={'alpha': array([  0.1       ,   2.13877551,   4.17755102,   6.21632653,\n",
       "         8.25510204,  10.29387755,  12.332...\n",
       "        57.18571429,  59.2244898 ,  61.26326531,  63.30204082,\n",
       "        65.34081633,  67.37959184,  69.41836735,  71.45714286,\n",
       "        73.49591837,  75.53469388,  77.57346939,  79.6122449 ,\n",
       "        81.65102041,  83.68979592,  85.72857143,  87.76734694,\n",
       "        89.80612245,  91.84489796,  93.88367347,  95.92244898,\n",
       "        97.96122449, 100.        ])},\n",
       "             pre_dispatch='2*n_jobs', refit=True, return_train_score=False,\n",
       "             scoring='neg_mean_absolute_error', verbose=10)"
      ]
     },
     "execution_count": 40,
     "metadata": {},
     "output_type": "execute_result"
    }
   ],
   "source": [
    "grid_search.fit(x_train,y_train)"
   ]
  },
  {
   "cell_type": "code",
   "execution_count": 41,
   "metadata": {},
   "outputs": [],
   "source": [
    "logr=grid_search.best_estimator_"
   ]
  },
  {
   "cell_type": "code",
   "execution_count": 42,
   "metadata": {},
   "outputs": [
    {
     "data": {
      "text/plain": [
       "Lasso(alpha=8.255102040816327, copy_X=True, fit_intercept=True, max_iter=1000,\n",
       "      normalize=False, positive=False, precompute=False, random_state=None,\n",
       "      selection='cyclic', tol=0.0001, warm_start=False)"
      ]
     },
     "execution_count": 42,
     "metadata": {},
     "output_type": "execute_result"
    }
   ],
   "source": [
    "logr.fit(x_train,y_train)"
   ]
  },
  {
   "cell_type": "code",
   "execution_count": 43,
   "metadata": {},
   "outputs": [
    {
     "data": {
      "text/plain": [
       "array([2532.50166254, 3076.09308251, 4084.02450222, ..., 3054.0468423 ,\n",
       "       2569.42100009, 2593.41471989])"
      ]
     },
     "execution_count": 43,
     "metadata": {},
     "output_type": "execute_result"
    }
   ],
   "source": [
    "logr.predict(x_train)"
   ]
  },
  {
   "cell_type": "code",
   "execution_count": 44,
   "metadata": {},
   "outputs": [
    {
     "data": {
      "text/plain": [
       "823.8166717506169"
      ]
     },
     "execution_count": 44,
     "metadata": {},
     "output_type": "execute_result"
    }
   ],
   "source": [
    "mean_absolute_error(y_train,logr.predict(x_train))"
   ]
  },
  {
   "cell_type": "code",
   "execution_count": 45,
   "metadata": {},
   "outputs": [],
   "source": [
    "final_test_pred=grid_search.predict(cf_test)"
   ]
  },
  {
   "cell_type": "code",
   "execution_count": 46,
   "metadata": {},
   "outputs": [
    {
     "data": {
      "text/plain": [
       "array([2686.89726611, 4040.63454741, 1580.81026511, ..., 2882.80068308,\n",
       "       3945.45275451, 3757.72998532])"
      ]
     },
     "execution_count": 46,
     "metadata": {},
     "output_type": "execute_result"
    }
   ],
   "source": [
    "final_test_pred"
   ]
  },
  {
   "cell_type": "markdown",
   "metadata": {},
   "source": [
    "# Decision Tree"
   ]
  },
  {
   "cell_type": "code",
   "execution_count": 47,
   "metadata": {},
   "outputs": [],
   "source": [
    "params={'max_depth':[None,5,10,15,20,30,50,70],\n",
    "            'min_samples_leaf':[1,2,5,10,15,20], \n",
    "            'min_samples_split':[2,5,10,15,20]\n",
    "       }"
   ]
  },
  {
   "cell_type": "code",
   "execution_count": 48,
   "metadata": {},
   "outputs": [],
   "source": [
    "from sklearn.tree import DecisionTreeRegressor\n",
    "from sklearn.model_selection import RandomizedSearchCV"
   ]
  },
  {
   "cell_type": "code",
   "execution_count": 49,
   "metadata": {},
   "outputs": [],
   "source": [
    "reg=DecisionTreeRegressor()"
   ]
  },
  {
   "cell_type": "code",
   "execution_count": 50,
   "metadata": {},
   "outputs": [],
   "source": [
    "random_search=RandomizedSearchCV(reg,\n",
    "                                 cv=10,\n",
    "                                 param_distributions=params,\n",
    "                                 scoring='neg_mean_absolute_error',\n",
    "                                 n_iter=10,n_jobs=-1,verbose=20\n",
    "                                    )"
   ]
  },
  {
   "cell_type": "code",
   "execution_count": 51,
   "metadata": {},
   "outputs": [
    {
     "name": "stdout",
     "output_type": "stream",
     "text": [
      "Fitting 10 folds for each of 10 candidates, totalling 100 fits\n"
     ]
    },
    {
     "name": "stderr",
     "output_type": "stream",
     "text": [
      "[Parallel(n_jobs=-1)]: Using backend LokyBackend with 4 concurrent workers.\n",
      "[Parallel(n_jobs=-1)]: Done   1 tasks      | elapsed:    0.1s\n",
      "[Parallel(n_jobs=-1)]: Batch computation too fast (0.1970s.) Setting batch_size=2.\n",
      "[Parallel(n_jobs=-1)]: Done   2 tasks      | elapsed:    0.1s\n",
      "[Parallel(n_jobs=-1)]: Done   3 tasks      | elapsed:    0.2s\n",
      "[Parallel(n_jobs=-1)]: Done   4 tasks      | elapsed:    0.2s\n",
      "[Parallel(n_jobs=-1)]: Done   5 tasks      | elapsed:    0.2s\n",
      "[Parallel(n_jobs=-1)]: Done   6 tasks      | elapsed:    0.2s\n",
      "[Parallel(n_jobs=-1)]: Done   7 tasks      | elapsed:    0.3s\n",
      "[Parallel(n_jobs=-1)]: Done   8 tasks      | elapsed:    0.3s\n",
      "[Parallel(n_jobs=-1)]: Done  10 tasks      | elapsed:    0.4s\n",
      "[Parallel(n_jobs=-1)]: Done  12 tasks      | elapsed:    0.4s\n",
      "[Parallel(n_jobs=-1)]: Done  14 tasks      | elapsed:    0.4s\n",
      "[Parallel(n_jobs=-1)]: Done  16 tasks      | elapsed:    0.4s\n",
      "[Parallel(n_jobs=-1)]: Done  18 tasks      | elapsed:    0.6s\n",
      "[Parallel(n_jobs=-1)]: Done  20 tasks      | elapsed:    0.6s\n",
      "[Parallel(n_jobs=-1)]: Done  22 tasks      | elapsed:    0.6s\n",
      "[Parallel(n_jobs=-1)]: Done  24 tasks      | elapsed:    0.7s\n",
      "[Parallel(n_jobs=-1)]: Done  26 tasks      | elapsed:    0.8s\n",
      "[Parallel(n_jobs=-1)]: Done  28 tasks      | elapsed:    0.8s\n",
      "[Parallel(n_jobs=-1)]: Done  30 tasks      | elapsed:    0.9s\n",
      "[Parallel(n_jobs=-1)]: Done  32 tasks      | elapsed:    0.9s\n",
      "[Parallel(n_jobs=-1)]: Done  34 tasks      | elapsed:    0.9s\n",
      "[Parallel(n_jobs=-1)]: Done  36 tasks      | elapsed:    1.0s\n",
      "[Parallel(n_jobs=-1)]: Done  38 tasks      | elapsed:    1.0s\n",
      "[Parallel(n_jobs=-1)]: Done  40 tasks      | elapsed:    1.1s\n",
      "[Parallel(n_jobs=-1)]: Done  42 tasks      | elapsed:    1.3s\n",
      "[Parallel(n_jobs=-1)]: Done  44 tasks      | elapsed:    1.3s\n",
      "[Parallel(n_jobs=-1)]: Done  46 tasks      | elapsed:    1.3s\n",
      "[Parallel(n_jobs=-1)]: Done  48 tasks      | elapsed:    1.4s\n",
      "[Parallel(n_jobs=-1)]: Done  50 tasks      | elapsed:    1.4s\n",
      "[Parallel(n_jobs=-1)]: Done  52 tasks      | elapsed:    1.5s\n",
      "[Parallel(n_jobs=-1)]: Done  54 tasks      | elapsed:    1.5s\n",
      "[Parallel(n_jobs=-1)]: Done  56 tasks      | elapsed:    1.6s\n",
      "[Parallel(n_jobs=-1)]: Done  58 tasks      | elapsed:    1.6s\n",
      "[Parallel(n_jobs=-1)]: Done  60 tasks      | elapsed:    1.7s\n",
      "[Parallel(n_jobs=-1)]: Done  62 tasks      | elapsed:    1.7s\n",
      "[Parallel(n_jobs=-1)]: Done  64 tasks      | elapsed:    1.8s\n",
      "[Parallel(n_jobs=-1)]: Done  66 tasks      | elapsed:    1.8s\n",
      "[Parallel(n_jobs=-1)]: Done  68 tasks      | elapsed:    1.9s\n",
      "[Parallel(n_jobs=-1)]: Done  70 tasks      | elapsed:    1.9s\n",
      "[Parallel(n_jobs=-1)]: Done  72 tasks      | elapsed:    2.0s\n",
      "[Parallel(n_jobs=-1)]: Done  74 tasks      | elapsed:    2.0s\n",
      "[Parallel(n_jobs=-1)]: Done  76 tasks      | elapsed:    2.1s\n",
      "[Parallel(n_jobs=-1)]: Done  78 tasks      | elapsed:    2.1s\n",
      "[Parallel(n_jobs=-1)]: Done  80 tasks      | elapsed:    2.1s\n",
      "[Parallel(n_jobs=-1)]: Done  82 tasks      | elapsed:    2.1s\n",
      "[Parallel(n_jobs=-1)]: Done  84 tasks      | elapsed:    2.2s\n",
      "[Parallel(n_jobs=-1)]: Done  86 tasks      | elapsed:    2.2s\n",
      "[Parallel(n_jobs=-1)]: Done 100 out of 100 | elapsed:    2.6s finished\n"
     ]
    },
    {
     "data": {
      "text/plain": [
       "RandomizedSearchCV(cv=10, error_score='raise-deprecating',\n",
       "                   estimator=DecisionTreeRegressor(criterion='mse',\n",
       "                                                   max_depth=None,\n",
       "                                                   max_features=None,\n",
       "                                                   max_leaf_nodes=None,\n",
       "                                                   min_impurity_decrease=0.0,\n",
       "                                                   min_impurity_split=None,\n",
       "                                                   min_samples_leaf=1,\n",
       "                                                   min_samples_split=2,\n",
       "                                                   min_weight_fraction_leaf=0.0,\n",
       "                                                   presort=False,\n",
       "                                                   random_state=None,\n",
       "                                                   splitter='best'),\n",
       "                   iid='warn', n_iter=10, n_jobs=-1,\n",
       "                   param_distributions={'max_depth': [None, 5, 10, 15, 20, 30,\n",
       "                                                      50, 70],\n",
       "                                        'min_samples_leaf': [1, 2, 5, 10, 15,\n",
       "                                                             20],\n",
       "                                        'min_samples_split': [2, 5, 10, 15,\n",
       "                                                              20]},\n",
       "                   pre_dispatch='2*n_jobs', random_state=None, refit=True,\n",
       "                   return_train_score=False, scoring='neg_mean_absolute_error',\n",
       "                   verbose=20)"
      ]
     },
     "execution_count": 51,
     "metadata": {},
     "output_type": "execute_result"
    }
   ],
   "source": [
    "random_search.fit(x_train,y_train)"
   ]
  },
  {
   "cell_type": "code",
   "execution_count": 52,
   "metadata": {},
   "outputs": [],
   "source": [
    "def report(results, n_top=3):\n",
    "    for i in range(1, n_top + 1):\n",
    "        candidates = np.flatnonzero(results['rank_test_score'] == i)\n",
    "        for candidate in candidates:\n",
    "            print(\"Model with rank: {0}\".format(i))\n",
    "            print(\"Mean validation score: {0:.5f} (std: {1:.5f})\".format(\n",
    "                  results['mean_test_score'][candidate],\n",
    "                  results['std_test_score'][candidate]))\n",
    "            print(\"Parameters: {0}\".format(results['params'][candidate]))\n",
    "            print(\"\")"
   ]
  },
  {
   "cell_type": "code",
   "execution_count": 53,
   "metadata": {},
   "outputs": [],
   "source": [
    "#The above function shows the top best_estimators"
   ]
  },
  {
   "cell_type": "code",
   "execution_count": 54,
   "metadata": {},
   "outputs": [
    {
     "name": "stdout",
     "output_type": "stream",
     "text": [
      "Model with rank: 1\n",
      "Mean validation score: -753.68445 (std: 25.28142)\n",
      "Parameters: {'min_samples_split': 20, 'min_samples_leaf': 2, 'max_depth': 5}\n",
      "\n",
      "Model with rank: 2\n",
      "Mean validation score: -781.95324 (std: 26.84109)\n",
      "Parameters: {'min_samples_split': 2, 'min_samples_leaf': 20, 'max_depth': 50}\n",
      "\n",
      "Model with rank: 3\n",
      "Mean validation score: -781.95324 (std: 26.84109)\n",
      "Parameters: {'min_samples_split': 15, 'min_samples_leaf': 20, 'max_depth': None}\n",
      "\n",
      "Model with rank: 3\n",
      "Mean validation score: -781.95324 (std: 26.84109)\n",
      "Parameters: {'min_samples_split': 2, 'min_samples_leaf': 20, 'max_depth': 20}\n",
      "\n"
     ]
    }
   ],
   "source": [
    "report(random_search.cv_results_)"
   ]
  },
  {
   "cell_type": "code",
   "execution_count": 55,
   "metadata": {},
   "outputs": [],
   "source": [
    "best_estimator=random_search.best_estimator_"
   ]
  },
  {
   "cell_type": "code",
   "execution_count": 56,
   "metadata": {},
   "outputs": [
    {
     "data": {
      "text/plain": [
       "DecisionTreeRegressor(criterion='mse', max_depth=5, max_features=None,\n",
       "                      max_leaf_nodes=None, min_impurity_decrease=0.0,\n",
       "                      min_impurity_split=None, min_samples_leaf=2,\n",
       "                      min_samples_split=20, min_weight_fraction_leaf=0.0,\n",
       "                      presort=False, random_state=None, splitter='best')"
      ]
     },
     "execution_count": 56,
     "metadata": {},
     "output_type": "execute_result"
    }
   ],
   "source": [
    "best_estimator.fit(x_train,y_train)"
   ]
  },
  {
   "cell_type": "code",
   "execution_count": 57,
   "metadata": {},
   "outputs": [],
   "source": [
    "final_pred=best_estimator.predict(cf_test)"
   ]
  },
  {
   "cell_type": "code",
   "execution_count": 58,
   "metadata": {},
   "outputs": [
    {
     "data": {
      "text/plain": [
       "array([1979.07095   , 4055.50681309, 1590.76447225, ..., 3113.08473391,\n",
       "       3476.12993231, 4055.50681309])"
      ]
     },
     "execution_count": 58,
     "metadata": {},
     "output_type": "execute_result"
    }
   ],
   "source": [
    "final_pred"
   ]
  },
  {
   "cell_type": "markdown",
   "metadata": {},
   "source": [
    "# Random_forest"
   ]
  },
  {
   "cell_type": "code",
   "execution_count": 60,
   "metadata": {},
   "outputs": [],
   "source": [
    "param_dist = {\"n_estimators\":[50,100,200],\n",
    "              \"max_features\": [2,4,5,6,8],\n",
    "              \"bootstrap\": [True, False],\n",
    "                'max_depth':[None,5,10,15,20,30,50,70],\n",
    "                'min_samples_leaf':[1,2,5,10,15,20], \n",
    "                'min_samples_split':[2,5,10,15,20]\n",
    "                  }"
   ]
  },
  {
   "cell_type": "code",
   "execution_count": 61,
   "metadata": {},
   "outputs": [],
   "source": [
    "from sklearn.ensemble import RandomForestRegressor"
   ]
  },
  {
   "cell_type": "code",
   "execution_count": 62,
   "metadata": {},
   "outputs": [],
   "source": [
    "reg=RandomForestRegressor()"
   ]
  },
  {
   "cell_type": "code",
   "execution_count": 63,
   "metadata": {},
   "outputs": [],
   "source": [
    "n_iter_search = 10\n",
    "random_search=RandomizedSearchCV(reg,\n",
    "                                 cv=20,\n",
    "                                 param_distributions=param_dist,\n",
    "                                 scoring='neg_mean_absolute_error',\n",
    "                                 n_iter=10,n_jobs=-1,verbose=20\n",
    "                                    )"
   ]
  },
  {
   "cell_type": "code",
   "execution_count": 64,
   "metadata": {},
   "outputs": [
    {
     "name": "stdout",
     "output_type": "stream",
     "text": [
      "Fitting 20 folds for each of 10 candidates, totalling 200 fits\n"
     ]
    },
    {
     "name": "stderr",
     "output_type": "stream",
     "text": [
      "[Parallel(n_jobs=-1)]: Using backend LokyBackend with 4 concurrent workers.\n",
      "[Parallel(n_jobs=-1)]: Done   1 tasks      | elapsed:    0.8s\n",
      "[Parallel(n_jobs=-1)]: Done   2 tasks      | elapsed:    0.9s\n",
      "[Parallel(n_jobs=-1)]: Done   3 tasks      | elapsed:    1.0s\n",
      "[Parallel(n_jobs=-1)]: Done   4 tasks      | elapsed:    1.1s\n",
      "[Parallel(n_jobs=-1)]: Done   5 tasks      | elapsed:    1.8s\n",
      "[Parallel(n_jobs=-1)]: Done   6 tasks      | elapsed:    1.9s\n",
      "[Parallel(n_jobs=-1)]: Done   7 tasks      | elapsed:    2.0s\n",
      "[Parallel(n_jobs=-1)]: Done   8 tasks      | elapsed:    2.1s\n",
      "[Parallel(n_jobs=-1)]: Done   9 tasks      | elapsed:    2.8s\n",
      "[Parallel(n_jobs=-1)]: Done  10 tasks      | elapsed:    2.9s\n",
      "[Parallel(n_jobs=-1)]: Done  11 tasks      | elapsed:    3.0s\n",
      "[Parallel(n_jobs=-1)]: Done  12 tasks      | elapsed:    3.1s\n",
      "[Parallel(n_jobs=-1)]: Done  13 tasks      | elapsed:    3.8s\n",
      "[Parallel(n_jobs=-1)]: Done  14 tasks      | elapsed:    3.8s\n",
      "[Parallel(n_jobs=-1)]: Done  15 tasks      | elapsed:    3.9s\n",
      "[Parallel(n_jobs=-1)]: Done  16 tasks      | elapsed:    4.2s\n",
      "[Parallel(n_jobs=-1)]: Done  17 tasks      | elapsed:    4.8s\n",
      "[Parallel(n_jobs=-1)]: Done  18 tasks      | elapsed:    4.8s\n",
      "[Parallel(n_jobs=-1)]: Done  19 tasks      | elapsed:    4.9s\n",
      "[Parallel(n_jobs=-1)]: Done  20 tasks      | elapsed:    5.2s\n",
      "[Parallel(n_jobs=-1)]: Done  21 tasks      | elapsed:    7.4s\n",
      "[Parallel(n_jobs=-1)]: Done  22 tasks      | elapsed:    7.7s\n",
      "[Parallel(n_jobs=-1)]: Done  23 tasks      | elapsed:    8.1s\n",
      "[Parallel(n_jobs=-1)]: Done  24 tasks      | elapsed:    8.3s\n",
      "[Parallel(n_jobs=-1)]: Done  25 tasks      | elapsed:   10.1s\n",
      "[Parallel(n_jobs=-1)]: Done  26 tasks      | elapsed:   10.5s\n",
      "[Parallel(n_jobs=-1)]: Done  27 tasks      | elapsed:   10.9s\n",
      "[Parallel(n_jobs=-1)]: Done  28 tasks      | elapsed:   11.5s\n",
      "[Parallel(n_jobs=-1)]: Done  29 tasks      | elapsed:   12.6s\n",
      "[Parallel(n_jobs=-1)]: Done  30 tasks      | elapsed:   13.2s\n",
      "[Parallel(n_jobs=-1)]: Done  31 tasks      | elapsed:   13.6s\n",
      "[Parallel(n_jobs=-1)]: Done  32 tasks      | elapsed:   14.2s\n",
      "[Parallel(n_jobs=-1)]: Done  33 tasks      | elapsed:   15.2s\n",
      "[Parallel(n_jobs=-1)]: Done  34 tasks      | elapsed:   15.8s\n",
      "[Parallel(n_jobs=-1)]: Done  35 tasks      | elapsed:   16.3s\n",
      "[Parallel(n_jobs=-1)]: Done  36 tasks      | elapsed:   16.8s\n",
      "[Parallel(n_jobs=-1)]: Done  37 tasks      | elapsed:   17.8s\n",
      "[Parallel(n_jobs=-1)]: Done  38 tasks      | elapsed:   18.5s\n",
      "[Parallel(n_jobs=-1)]: Done  39 tasks      | elapsed:   18.7s\n",
      "[Parallel(n_jobs=-1)]: Done  40 tasks      | elapsed:   19.3s\n",
      "[Parallel(n_jobs=-1)]: Done  41 tasks      | elapsed:   19.4s\n",
      "[Parallel(n_jobs=-1)]: Done  42 tasks      | elapsed:   19.4s\n",
      "[Parallel(n_jobs=-1)]: Done  43 tasks      | elapsed:   19.5s\n",
      "[Parallel(n_jobs=-1)]: Done  44 tasks      | elapsed:   20.2s\n",
      "[Parallel(n_jobs=-1)]: Done  45 tasks      | elapsed:   20.3s\n",
      "[Parallel(n_jobs=-1)]: Done  46 tasks      | elapsed:   20.3s\n",
      "[Parallel(n_jobs=-1)]: Done  47 tasks      | elapsed:   20.4s\n",
      "[Parallel(n_jobs=-1)]: Done  48 tasks      | elapsed:   21.1s\n",
      "[Parallel(n_jobs=-1)]: Done  49 tasks      | elapsed:   21.1s\n",
      "[Parallel(n_jobs=-1)]: Done  50 tasks      | elapsed:   21.2s\n",
      "[Parallel(n_jobs=-1)]: Done  51 tasks      | elapsed:   21.2s\n",
      "[Parallel(n_jobs=-1)]: Done  52 tasks      | elapsed:   22.0s\n",
      "[Parallel(n_jobs=-1)]: Done  53 tasks      | elapsed:   22.0s\n",
      "[Parallel(n_jobs=-1)]: Done  54 tasks      | elapsed:   22.1s\n",
      "[Parallel(n_jobs=-1)]: Done  55 tasks      | elapsed:   22.2s\n",
      "[Parallel(n_jobs=-1)]: Done  56 tasks      | elapsed:   22.9s\n",
      "[Parallel(n_jobs=-1)]: Done  57 tasks      | elapsed:   22.9s\n",
      "[Parallel(n_jobs=-1)]: Done  58 tasks      | elapsed:   23.0s\n",
      "[Parallel(n_jobs=-1)]: Done  59 tasks      | elapsed:   23.2s\n",
      "[Parallel(n_jobs=-1)]: Done  60 tasks      | elapsed:   23.8s\n",
      "[Parallel(n_jobs=-1)]: Done  61 tasks      | elapsed:   23.9s\n",
      "[Parallel(n_jobs=-1)]: Done  62 tasks      | elapsed:   24.0s\n",
      "[Parallel(n_jobs=-1)]: Done  63 tasks      | elapsed:   24.1s\n",
      "[Parallel(n_jobs=-1)]: Done  64 tasks      | elapsed:   24.6s\n",
      "[Parallel(n_jobs=-1)]: Done  65 tasks      | elapsed:   24.8s\n",
      "[Parallel(n_jobs=-1)]: Done  66 tasks      | elapsed:   24.8s\n",
      "[Parallel(n_jobs=-1)]: Done  67 tasks      | elapsed:   25.1s\n",
      "[Parallel(n_jobs=-1)]: Done  68 tasks      | elapsed:   25.5s\n",
      "[Parallel(n_jobs=-1)]: Done  69 tasks      | elapsed:   25.7s\n",
      "[Parallel(n_jobs=-1)]: Done  70 tasks      | elapsed:   25.7s\n",
      "[Parallel(n_jobs=-1)]: Done  71 tasks      | elapsed:   26.0s\n",
      "[Parallel(n_jobs=-1)]: Done  72 tasks      | elapsed:   26.3s\n",
      "[Parallel(n_jobs=-1)]: Done  73 tasks      | elapsed:   26.5s\n",
      "[Parallel(n_jobs=-1)]: Done  74 tasks      | elapsed:   26.5s\n",
      "[Parallel(n_jobs=-1)]: Done  75 tasks      | elapsed:   26.9s\n",
      "[Parallel(n_jobs=-1)]: Done  76 tasks      | elapsed:   27.2s\n",
      "[Parallel(n_jobs=-1)]: Done  77 tasks      | elapsed:   27.3s\n",
      "[Parallel(n_jobs=-1)]: Done  78 tasks      | elapsed:   27.4s\n",
      "[Parallel(n_jobs=-1)]: Done  79 tasks      | elapsed:   27.8s\n",
      "[Parallel(n_jobs=-1)]: Done  80 tasks      | elapsed:   28.1s\n",
      "[Parallel(n_jobs=-1)]: Done  81 tasks      | elapsed:   28.2s\n",
      "[Parallel(n_jobs=-1)]: Done  82 tasks      | elapsed:   28.3s\n",
      "[Parallel(n_jobs=-1)]: Done  83 tasks      | elapsed:   28.9s\n",
      "[Parallel(n_jobs=-1)]: Done  84 tasks      | elapsed:   29.0s\n",
      "[Parallel(n_jobs=-1)]: Done  85 tasks      | elapsed:   29.0s\n",
      "[Parallel(n_jobs=-1)]: Done  86 tasks      | elapsed:   29.7s\n",
      "[Parallel(n_jobs=-1)]: Done  87 tasks      | elapsed:   29.8s\n",
      "[Parallel(n_jobs=-1)]: Done  88 tasks      | elapsed:   29.9s\n",
      "[Parallel(n_jobs=-1)]: Done  89 tasks      | elapsed:   30.4s\n",
      "[Parallel(n_jobs=-1)]: Done  90 tasks      | elapsed:   30.5s\n",
      "[Parallel(n_jobs=-1)]: Done  91 tasks      | elapsed:   30.8s\n",
      "[Parallel(n_jobs=-1)]: Done  92 tasks      | elapsed:   30.9s\n",
      "[Parallel(n_jobs=-1)]: Done  93 tasks      | elapsed:   31.3s\n",
      "[Parallel(n_jobs=-1)]: Done  94 tasks      | elapsed:   31.6s\n",
      "[Parallel(n_jobs=-1)]: Done  95 tasks      | elapsed:   31.7s\n",
      "[Parallel(n_jobs=-1)]: Done  96 tasks      | elapsed:   31.7s\n",
      "[Parallel(n_jobs=-1)]: Done  97 tasks      | elapsed:   32.1s\n",
      "[Parallel(n_jobs=-1)]: Done  98 tasks      | elapsed:   32.4s\n",
      "[Parallel(n_jobs=-1)]: Done  99 tasks      | elapsed:   32.4s\n",
      "[Parallel(n_jobs=-1)]: Done 100 tasks      | elapsed:   33.1s\n",
      "[Parallel(n_jobs=-1)]: Done 101 tasks      | elapsed:   33.5s\n",
      "[Parallel(n_jobs=-1)]: Done 102 tasks      | elapsed:   33.8s\n",
      "[Parallel(n_jobs=-1)]: Done 103 tasks      | elapsed:   33.8s\n",
      "[Parallel(n_jobs=-1)]: Done 104 tasks      | elapsed:   34.8s\n",
      "[Parallel(n_jobs=-1)]: Done 105 tasks      | elapsed:   34.8s\n",
      "[Parallel(n_jobs=-1)]: Done 106 tasks      | elapsed:   35.1s\n",
      "[Parallel(n_jobs=-1)]: Done 107 tasks      | elapsed:   35.2s\n",
      "[Parallel(n_jobs=-1)]: Done 108 tasks      | elapsed:   36.2s\n",
      "[Parallel(n_jobs=-1)]: Done 109 tasks      | elapsed:   36.4s\n",
      "[Parallel(n_jobs=-1)]: Done 110 tasks      | elapsed:   36.5s\n",
      "[Parallel(n_jobs=-1)]: Done 111 tasks      | elapsed:   36.7s\n",
      "[Parallel(n_jobs=-1)]: Done 112 tasks      | elapsed:   37.6s\n",
      "[Parallel(n_jobs=-1)]: Done 113 tasks      | elapsed:   37.9s\n",
      "[Parallel(n_jobs=-1)]: Done 114 tasks      | elapsed:   38.3s\n",
      "[Parallel(n_jobs=-1)]: Done 115 tasks      | elapsed:   39.2s\n",
      "[Parallel(n_jobs=-1)]: Done 116 tasks      | elapsed:   39.2s\n",
      "[Parallel(n_jobs=-1)]: Done 117 tasks      | elapsed:   39.4s\n",
      "[Parallel(n_jobs=-1)]: Done 118 tasks      | elapsed:   39.7s\n",
      "[Parallel(n_jobs=-1)]: Done 119 tasks      | elapsed:   40.6s\n",
      "[Parallel(n_jobs=-1)]: Done 120 tasks      | elapsed:   41.5s\n",
      "[Parallel(n_jobs=-1)]: Done 121 tasks      | elapsed:   44.9s\n",
      "[Parallel(n_jobs=-1)]: Done 122 tasks      | elapsed:   45.3s\n",
      "[Parallel(n_jobs=-1)]: Done 123 tasks      | elapsed:   45.4s\n",
      "[Parallel(n_jobs=-1)]: Done 124 tasks      | elapsed:   47.4s\n",
      "[Parallel(n_jobs=-1)]: Done 125 tasks      | elapsed:   49.9s\n",
      "[Parallel(n_jobs=-1)]: Done 126 tasks      | elapsed:   50.1s\n",
      "[Parallel(n_jobs=-1)]: Done 127 tasks      | elapsed:   50.2s\n",
      "[Parallel(n_jobs=-1)]: Done 128 tasks      | elapsed:   53.7s\n",
      "[Parallel(n_jobs=-1)]: Done 129 tasks      | elapsed:   55.0s\n",
      "[Parallel(n_jobs=-1)]: Done 130 tasks      | elapsed:   55.1s\n",
      "[Parallel(n_jobs=-1)]: Done 131 tasks      | elapsed:   55.2s\n"
     ]
    },
    {
     "name": "stderr",
     "output_type": "stream",
     "text": [
      "[Parallel(n_jobs=-1)]: Done 132 tasks      | elapsed:   59.3s\n",
      "[Parallel(n_jobs=-1)]: Done 133 tasks      | elapsed:   59.9s\n",
      "[Parallel(n_jobs=-1)]: Done 134 tasks      | elapsed:  1.0min\n",
      "[Parallel(n_jobs=-1)]: Done 135 tasks      | elapsed:  1.0min\n",
      "[Parallel(n_jobs=-1)]: Done 136 tasks      | elapsed:  1.1min\n",
      "[Parallel(n_jobs=-1)]: Done 137 tasks      | elapsed:  1.1min\n",
      "[Parallel(n_jobs=-1)]: Done 138 tasks      | elapsed:  1.1min\n",
      "[Parallel(n_jobs=-1)]: Done 139 tasks      | elapsed:  1.1min\n",
      "[Parallel(n_jobs=-1)]: Done 140 tasks      | elapsed:  1.1min\n",
      "[Parallel(n_jobs=-1)]: Done 141 tasks      | elapsed:  1.1min\n",
      "[Parallel(n_jobs=-1)]: Done 142 tasks      | elapsed:  1.1min\n",
      "[Parallel(n_jobs=-1)]: Done 143 tasks      | elapsed:  1.1min\n",
      "[Parallel(n_jobs=-1)]: Done 144 tasks      | elapsed:  1.1min\n",
      "[Parallel(n_jobs=-1)]: Done 145 tasks      | elapsed:  1.1min\n",
      "[Parallel(n_jobs=-1)]: Done 146 tasks      | elapsed:  1.1min\n",
      "[Parallel(n_jobs=-1)]: Done 147 tasks      | elapsed:  1.1min\n",
      "[Parallel(n_jobs=-1)]: Done 148 tasks      | elapsed:  1.2min\n",
      "[Parallel(n_jobs=-1)]: Done 149 tasks      | elapsed:  1.2min\n",
      "[Parallel(n_jobs=-1)]: Done 150 tasks      | elapsed:  1.2min\n",
      "[Parallel(n_jobs=-1)]: Done 151 tasks      | elapsed:  1.2min\n",
      "[Parallel(n_jobs=-1)]: Done 152 tasks      | elapsed:  1.2min\n",
      "[Parallel(n_jobs=-1)]: Done 153 tasks      | elapsed:  1.2min\n",
      "[Parallel(n_jobs=-1)]: Done 154 tasks      | elapsed:  1.2min\n",
      "[Parallel(n_jobs=-1)]: Done 155 tasks      | elapsed:  1.2min\n",
      "[Parallel(n_jobs=-1)]: Done 156 tasks      | elapsed:  1.2min\n",
      "[Parallel(n_jobs=-1)]: Done 157 tasks      | elapsed:  1.2min\n",
      "[Parallel(n_jobs=-1)]: Done 158 tasks      | elapsed:  1.2min\n",
      "[Parallel(n_jobs=-1)]: Done 159 tasks      | elapsed:  1.2min\n",
      "[Parallel(n_jobs=-1)]: Done 160 tasks      | elapsed:  1.2min\n",
      "[Parallel(n_jobs=-1)]: Done 161 tasks      | elapsed:  1.2min\n",
      "[Parallel(n_jobs=-1)]: Done 162 tasks      | elapsed:  1.3min\n",
      "[Parallel(n_jobs=-1)]: Done 163 tasks      | elapsed:  1.3min\n",
      "[Parallel(n_jobs=-1)]: Done 164 tasks      | elapsed:  1.3min\n",
      "[Parallel(n_jobs=-1)]: Done 165 tasks      | elapsed:  1.3min\n",
      "[Parallel(n_jobs=-1)]: Done 166 tasks      | elapsed:  1.3min\n",
      "[Parallel(n_jobs=-1)]: Done 167 tasks      | elapsed:  1.3min\n",
      "[Parallel(n_jobs=-1)]: Done 168 tasks      | elapsed:  1.3min\n",
      "[Parallel(n_jobs=-1)]: Done 169 tasks      | elapsed:  1.3min\n",
      "[Parallel(n_jobs=-1)]: Done 170 tasks      | elapsed:  1.4min\n",
      "[Parallel(n_jobs=-1)]: Done 171 tasks      | elapsed:  1.4min\n",
      "[Parallel(n_jobs=-1)]: Done 172 tasks      | elapsed:  1.4min\n",
      "[Parallel(n_jobs=-1)]: Done 173 tasks      | elapsed:  1.4min\n",
      "[Parallel(n_jobs=-1)]: Done 174 tasks      | elapsed:  1.4min\n",
      "[Parallel(n_jobs=-1)]: Done 175 tasks      | elapsed:  1.4min\n",
      "[Parallel(n_jobs=-1)]: Done 176 tasks      | elapsed:  1.4min\n",
      "[Parallel(n_jobs=-1)]: Done 177 tasks      | elapsed:  1.4min\n",
      "[Parallel(n_jobs=-1)]: Done 178 tasks      | elapsed:  1.4min\n",
      "[Parallel(n_jobs=-1)]: Done 179 tasks      | elapsed:  1.5min\n",
      "[Parallel(n_jobs=-1)]: Done 180 tasks      | elapsed:  1.5min\n",
      "[Parallel(n_jobs=-1)]: Done 181 tasks      | elapsed:  1.5min\n",
      "[Parallel(n_jobs=-1)]: Done 182 tasks      | elapsed:  1.5min\n",
      "[Parallel(n_jobs=-1)]: Done 183 tasks      | elapsed:  1.5min\n",
      "[Parallel(n_jobs=-1)]: Done 184 tasks      | elapsed:  1.5min\n",
      "[Parallel(n_jobs=-1)]: Done 185 tasks      | elapsed:  1.5min\n",
      "[Parallel(n_jobs=-1)]: Done 186 tasks      | elapsed:  1.5min\n",
      "[Parallel(n_jobs=-1)]: Done 187 tasks      | elapsed:  1.5min\n",
      "[Parallel(n_jobs=-1)]: Done 188 tasks      | elapsed:  1.5min\n",
      "[Parallel(n_jobs=-1)]: Done 189 tasks      | elapsed:  1.5min\n",
      "[Parallel(n_jobs=-1)]: Done 190 tasks      | elapsed:  1.5min\n",
      "[Parallel(n_jobs=-1)]: Done 191 tasks      | elapsed:  1.5min\n",
      "[Parallel(n_jobs=-1)]: Done 192 tasks      | elapsed:  1.5min\n",
      "[Parallel(n_jobs=-1)]: Done 193 tasks      | elapsed:  1.5min\n",
      "[Parallel(n_jobs=-1)]: Done 200 out of 200 | elapsed:  1.5min finished\n"
     ]
    },
    {
     "data": {
      "text/plain": [
       "RandomizedSearchCV(cv=20, error_score='raise-deprecating',\n",
       "                   estimator=RandomForestRegressor(bootstrap=True,\n",
       "                                                   criterion='mse',\n",
       "                                                   max_depth=None,\n",
       "                                                   max_features='auto',\n",
       "                                                   max_leaf_nodes=None,\n",
       "                                                   min_impurity_decrease=0.0,\n",
       "                                                   min_impurity_split=None,\n",
       "                                                   min_samples_leaf=1,\n",
       "                                                   min_samples_split=2,\n",
       "                                                   min_weight_fraction_leaf=0.0,\n",
       "                                                   n_estimators='warn',\n",
       "                                                   n_jobs=None, oob_score=False,\n",
       "                                                   random_st...\n",
       "                   iid='warn', n_iter=10, n_jobs=-1,\n",
       "                   param_distributions={'bootstrap': [True, False],\n",
       "                                        'max_depth': [None, 5, 10, 15, 20, 30,\n",
       "                                                      50, 70],\n",
       "                                        'max_features': [2, 4, 5, 6, 8],\n",
       "                                        'min_samples_leaf': [1, 2, 5, 10, 15,\n",
       "                                                             20],\n",
       "                                        'min_samples_split': [2, 5, 10, 15, 20],\n",
       "                                        'n_estimators': [50, 100, 200]},\n",
       "                   pre_dispatch='2*n_jobs', random_state=None, refit=True,\n",
       "                   return_train_score=False, scoring='neg_mean_absolute_error',\n",
       "                   verbose=20)"
      ]
     },
     "execution_count": 64,
     "metadata": {},
     "output_type": "execute_result"
    }
   ],
   "source": [
    "random_search.fit(x_train,y_train)"
   ]
  },
  {
   "cell_type": "code",
   "execution_count": 65,
   "metadata": {},
   "outputs": [
    {
     "name": "stdout",
     "output_type": "stream",
     "text": [
      "Model with rank: 1\n",
      "Mean validation score: -769.81036 (std: 41.76195)\n",
      "Parameters: {'n_estimators': 50, 'min_samples_split': 20, 'min_samples_leaf': 5, 'max_features': 8, 'max_depth': 20, 'bootstrap': True}\n",
      "\n",
      "Model with rank: 2\n",
      "Mean validation score: -772.99917 (std: 40.46575)\n",
      "Parameters: {'n_estimators': 200, 'min_samples_split': 20, 'min_samples_leaf': 1, 'max_features': 8, 'max_depth': None, 'bootstrap': False}\n",
      "\n",
      "Model with rank: 3\n",
      "Mean validation score: -789.21578 (std: 39.49599)\n",
      "Parameters: {'n_estimators': 50, 'min_samples_split': 10, 'min_samples_leaf': 1, 'max_features': 5, 'max_depth': 50, 'bootstrap': True}\n",
      "\n"
     ]
    }
   ],
   "source": [
    "report(random_search.cv_results_)"
   ]
  },
  {
   "cell_type": "code",
   "execution_count": 106,
   "metadata": {},
   "outputs": [],
   "source": [
    "best_estimator=random_search.best_estimator_"
   ]
  },
  {
   "cell_type": "code",
   "execution_count": 107,
   "metadata": {},
   "outputs": [
    {
     "data": {
      "text/plain": [
       "RandomForestRegressor(bootstrap=False, criterion='mse', max_depth=15,\n",
       "                      max_features=8, max_leaf_nodes=None,\n",
       "                      min_impurity_decrease=0.0, min_impurity_split=None,\n",
       "                      min_samples_leaf=5, min_samples_split=5,\n",
       "                      min_weight_fraction_leaf=0.0, n_estimators=100,\n",
       "                      n_jobs=None, oob_score=False, random_state=None,\n",
       "                      verbose=0, warm_start=False)"
      ]
     },
     "execution_count": 107,
     "metadata": {},
     "output_type": "execute_result"
    }
   ],
   "source": [
    "best_estimator.fit(x_train,y_train)"
   ]
  },
  {
   "cell_type": "code",
   "execution_count": 108,
   "metadata": {},
   "outputs": [],
   "source": [
    "final_rf_predictors=best_estimator.predict(cf_test)"
   ]
  },
  {
   "cell_type": "code",
   "execution_count": 110,
   "metadata": {},
   "outputs": [
    {
     "data": {
      "text/plain": [
       "array([2393.3540138 , 4039.92164673, 1507.50987399, ..., 2973.81206899,\n",
       "       3285.24383487, 4286.41256062])"
      ]
     },
     "execution_count": 110,
     "metadata": {},
     "output_type": "execute_result"
    }
   ],
   "source": [
    "final_rf_predictors"
   ]
  },
  {
   "cell_type": "markdown",
   "metadata": {},
   "source": [
    "# Gradient BOOSTing"
   ]
  },
  {
   "cell_type": "code",
   "execution_count": 66,
   "metadata": {},
   "outputs": [
    {
     "name": "stdout",
     "output_type": "stream",
     "text": [
      "Requirement already satisfied: xgboost in e:\\nani ana\\lib\\site-packages (1.4.2)\n",
      "Requirement already satisfied: scipy in e:\\nani ana\\lib\\site-packages (from xgboost) (1.3.1)\n",
      "Requirement already satisfied: numpy in e:\\nani ana\\lib\\site-packages (from xgboost) (1.16.5)\n"
     ]
    }
   ],
   "source": [
    "!pip install xgboost"
   ]
  },
  {
   "cell_type": "code",
   "execution_count": 67,
   "metadata": {},
   "outputs": [],
   "source": [
    "from sklearn.ensemble import GradientBoostingRegressor\n",
    "from xgboost.sklearn import XGBRegressor"
   ]
  },
  {
   "cell_type": "code",
   "execution_count": 68,
   "metadata": {},
   "outputs": [],
   "source": [
    "gbm_params={'n_estimators':[50,100,200,500,700],\n",
    "           'learning_rate':[0.01,.05,0.1,0.4,0.8,1],\n",
    "           'max_depth':[1,2,3,4,5],\n",
    "           'subsample':[0.5,0.8],\n",
    "           'max_features':[5,7,10,20,25,30,35]\n",
    "           }"
   ]
  },
  {
   "cell_type": "code",
   "execution_count": 69,
   "metadata": {},
   "outputs": [],
   "source": [
    "gbm=GradientBoostingRegressor()"
   ]
  },
  {
   "cell_type": "code",
   "execution_count": 70,
   "metadata": {},
   "outputs": [],
   "source": [
    "random_search=RandomizedSearchCV(gbm,param_distributions=gbm_params,\n",
    "                                cv=5,n_iter=20,n_jobs=-1,scoring='neg_mean_absolute_error')"
   ]
  },
  {
   "cell_type": "code",
   "execution_count": 71,
   "metadata": {},
   "outputs": [
    {
     "data": {
      "text/plain": [
       "RandomizedSearchCV(cv=5, error_score='raise-deprecating',\n",
       "                   estimator=GradientBoostingRegressor(alpha=0.9,\n",
       "                                                       criterion='friedman_mse',\n",
       "                                                       init=None,\n",
       "                                                       learning_rate=0.1,\n",
       "                                                       loss='ls', max_depth=3,\n",
       "                                                       max_features=None,\n",
       "                                                       max_leaf_nodes=None,\n",
       "                                                       min_impurity_decrease=0.0,\n",
       "                                                       min_impurity_split=None,\n",
       "                                                       min_samples_leaf=1,\n",
       "                                                       min_samples_split=2,\n",
       "                                                       min_weight_fraction_leaf=0.0,\n",
       "                                                       n_estimators=100,...\n",
       "                                                       warm_start=False),\n",
       "                   iid='warn', n_iter=20, n_jobs=-1,\n",
       "                   param_distributions={'learning_rate': [0.01, 0.05, 0.1, 0.4,\n",
       "                                                          0.8, 1],\n",
       "                                        'max_depth': [1, 2, 3, 4, 5],\n",
       "                                        'max_features': [5, 7, 10, 20, 25, 30,\n",
       "                                                         35],\n",
       "                                        'n_estimators': [50, 100, 200, 500,\n",
       "                                                         700],\n",
       "                                        'subsample': [0.5, 0.8]},\n",
       "                   pre_dispatch='2*n_jobs', random_state=None, refit=True,\n",
       "                   return_train_score=False, scoring='neg_mean_absolute_error',\n",
       "                   verbose=0)"
      ]
     },
     "execution_count": 71,
     "metadata": {},
     "output_type": "execute_result"
    }
   ],
   "source": [
    "random_search.fit(x_train,y_train)"
   ]
  },
  {
   "cell_type": "code",
   "execution_count": 72,
   "metadata": {},
   "outputs": [],
   "source": [
    "best_estimator=random_search.best_estimator_"
   ]
  },
  {
   "cell_type": "code",
   "execution_count": 73,
   "metadata": {},
   "outputs": [],
   "source": [
    "def report(results, n_top=3):\n",
    "    for i in range(1, n_top + 1):\n",
    "        candidates = np.flatnonzero(results['rank_test_score'] == i)\n",
    "        for candidate in candidates:\n",
    "            print(\"Model with rank: {0}\".format(i))\n",
    "            print(\"Mean validation score: {0:.5f} (std: {1:.5f})\".format(\n",
    "                  results['mean_test_score'][candidate],\n",
    "                  results['std_test_score'][candidate]))\n",
    "            print(\"Parameters: {0}\".format(results['params'][candidate]))\n",
    "            print(\"\")"
   ]
  },
  {
   "cell_type": "code",
   "execution_count": 74,
   "metadata": {},
   "outputs": [
    {
     "name": "stdout",
     "output_type": "stream",
     "text": [
      "Model with rank: 1\n",
      "Mean validation score: -750.11040 (std: 16.55125)\n",
      "Parameters: {'subsample': 0.5, 'n_estimators': 700, 'max_features': 25, 'max_depth': 3, 'learning_rate': 0.01}\n",
      "\n",
      "Model with rank: 2\n",
      "Mean validation score: -753.92281 (std: 16.06846)\n",
      "Parameters: {'subsample': 0.8, 'n_estimators': 200, 'max_features': 25, 'max_depth': 2, 'learning_rate': 0.05}\n",
      "\n",
      "Model with rank: 3\n",
      "Mean validation score: -760.67644 (std: 17.58740)\n",
      "Parameters: {'subsample': 0.8, 'n_estimators': 500, 'max_features': 20, 'max_depth': 3, 'learning_rate': 0.05}\n",
      "\n",
      "Model with rank: 4\n",
      "Mean validation score: -761.34428 (std: 17.37316)\n",
      "Parameters: {'subsample': 0.5, 'n_estimators': 700, 'max_features': 20, 'max_depth': 2, 'learning_rate': 0.05}\n",
      "\n",
      "Model with rank: 5\n",
      "Mean validation score: -768.47202 (std: 15.81696)\n",
      "Parameters: {'subsample': 0.8, 'n_estimators': 700, 'max_features': 5, 'max_depth': 3, 'learning_rate': 0.05}\n",
      "\n"
     ]
    }
   ],
   "source": [
    "report(random_search.cv_results_,5)"
   ]
  },
  {
   "cell_type": "code",
   "execution_count": 75,
   "metadata": {},
   "outputs": [
    {
     "data": {
      "text/plain": [
       "GradientBoostingRegressor(alpha=0.9, criterion='friedman_mse', init=None,\n",
       "                          learning_rate=0.01, loss='ls', max_depth=3,\n",
       "                          max_features=25, max_leaf_nodes=None,\n",
       "                          min_impurity_decrease=0.0, min_impurity_split=None,\n",
       "                          min_samples_leaf=1, min_samples_split=2,\n",
       "                          min_weight_fraction_leaf=0.0, n_estimators=700,\n",
       "                          n_iter_no_change=None, presort='auto',\n",
       "                          random_state=None, subsample=0.5, tol=0.0001,\n",
       "                          validation_fraction=0.1, verbose=0, warm_start=False)"
      ]
     },
     "execution_count": 75,
     "metadata": {},
     "output_type": "execute_result"
    }
   ],
   "source": [
    "best_estimator.fit(x_train,y_train)"
   ]
  },
  {
   "cell_type": "code",
   "execution_count": 76,
   "metadata": {},
   "outputs": [
    {
     "data": {
      "text/plain": [
       "array([2298.1677021 , 4063.08976424, 1423.24160158, ..., 3017.9066189 ,\n",
       "       3511.78084656, 3970.65066245])"
      ]
     },
     "execution_count": 76,
     "metadata": {},
     "output_type": "execute_result"
    }
   ],
   "source": [
    "best_estimator.predict(cf_test)"
   ]
  },
  {
   "cell_type": "markdown",
   "metadata": {},
   "source": [
    "# XG BOOST"
   ]
  },
  {
   "cell_type": "code",
   "execution_count": 87,
   "metadata": {},
   "outputs": [],
   "source": [
    "xgb_params={'learning_rate':[0.01,0.05,0.1,0.3,0.5],\n",
    "            'gamma':[i/10.0 for i in range(5,10)],\n",
    "             'max_depth':[2,3,4,5,6,7,8],\n",
    "            'min_child_weight':[1,2,5,10],\n",
    "            'max_delta_step':[0,1,2,5,10],\n",
    "            'subsample':[i/10.0 for i in range(5,10)],\n",
    "            'colsample_bytree':[i/10.0 for i in range(5,10)],\n",
    "            'colsample_bylevel':[i/10.0 for i in range(5,10)],\n",
    "            'reg_lambda':[1e-5,1e-2,0.1,1,100],\n",
    "            'reg_alpha':[1e-5,1e-2,0.1,1,100],\n",
    "            'scale_pos_weight':[1,2,3,4,5,6,7,8,9],\n",
    "            'n_estimators':[100,500,700,1000]\n",
    "}"
   ]
  },
  {
   "cell_type": "code",
   "execution_count": 88,
   "metadata": {},
   "outputs": [],
   "source": [
    "xgb=XGBRegressor(objective='reg:linear')"
   ]
  },
  {
   "cell_type": "code",
   "execution_count": 89,
   "metadata": {},
   "outputs": [],
   "source": [
    "n_iter=10"
   ]
  },
  {
   "cell_type": "code",
   "execution_count": 90,
   "metadata": {},
   "outputs": [],
   "source": [
    "random_search=RandomizedSearchCV(xgb,n_jobs=-1,cv=5,n_iter=n_iter,scoring='neg_mean_squared_error',\n",
    "                                 param_distributions=xgb_params)"
   ]
  },
  {
   "cell_type": "code",
   "execution_count": 91,
   "metadata": {},
   "outputs": [
    {
     "name": "stdout",
     "output_type": "stream",
     "text": [
      "[16:53:21] WARNING: C:/Users/Administrator/workspace/xgboost-win64_release_1.4.0/src/objective/regression_obj.cu:171: reg:linear is now deprecated in favor of reg:squarederror.\n"
     ]
    },
    {
     "data": {
      "text/plain": [
       "RandomizedSearchCV(cv=5, error_score='raise-deprecating',\n",
       "                   estimator=XGBRegressor(base_score=None, booster=None,\n",
       "                                          colsample_bylevel=None,\n",
       "                                          colsample_bynode=None,\n",
       "                                          colsample_bytree=None, gamma=None,\n",
       "                                          gpu_id=None, importance_type='gain',\n",
       "                                          interaction_constraints=None,\n",
       "                                          learning_rate=None,\n",
       "                                          max_delta_step=None, max_depth=None,\n",
       "                                          min_child_weight=None, missing=nan,\n",
       "                                          monotone_con...\n",
       "                                        'max_depth': [2, 3, 4, 5, 6, 7, 8],\n",
       "                                        'min_child_weight': [1, 2, 5, 10],\n",
       "                                        'n_estimators': [100, 500, 700, 1000],\n",
       "                                        'reg_alpha': [1e-05, 0.01, 0.1, 1, 100],\n",
       "                                        'reg_lambda': [1e-05, 0.01, 0.1, 1,\n",
       "                                                       100],\n",
       "                                        'scale_pos_weight': [1, 2, 3, 4, 5, 6,\n",
       "                                                             7, 8, 9],\n",
       "                                        'subsample': [0.5, 0.6, 0.7, 0.8, 0.9]},\n",
       "                   pre_dispatch='2*n_jobs', random_state=None, refit=True,\n",
       "                   return_train_score=False, scoring='neg_mean_squared_error',\n",
       "                   verbose=0)"
      ]
     },
     "execution_count": 91,
     "metadata": {},
     "output_type": "execute_result"
    }
   ],
   "source": [
    "random_search.fit(x_train,y_train)"
   ]
  },
  {
   "cell_type": "code",
   "execution_count": 92,
   "metadata": {},
   "outputs": [
    {
     "name": "stdout",
     "output_type": "stream",
     "text": [
      "Model with rank: 1\n",
      "Mean validation score: -1374428.88734 (std: 82076.32326)\n",
      "Parameters: {'subsample': 0.7, 'scale_pos_weight': 8, 'reg_lambda': 1, 'reg_alpha': 100, 'n_estimators': 1000, 'min_child_weight': 2, 'max_depth': 6, 'max_delta_step': 0, 'learning_rate': 0.05, 'gamma': 0.8, 'colsample_bytree': 0.5, 'colsample_bylevel': 0.8}\n",
      "\n",
      "Model with rank: 2\n",
      "Mean validation score: -1383266.31211 (std: 84782.86761)\n",
      "Parameters: {'subsample': 0.9, 'scale_pos_weight': 2, 'reg_lambda': 1e-05, 'reg_alpha': 100, 'n_estimators': 100, 'min_child_weight': 1, 'max_depth': 5, 'max_delta_step': 0, 'learning_rate': 0.3, 'gamma': 0.9, 'colsample_bytree': 0.8, 'colsample_bylevel': 0.9}\n",
      "\n",
      "Model with rank: 3\n",
      "Mean validation score: -6034454.07872 (std: 166873.31779)\n",
      "Parameters: {'subsample': 0.9, 'scale_pos_weight': 7, 'reg_lambda': 1, 'reg_alpha': 0.01, 'n_estimators': 1000, 'min_child_weight': 5, 'max_depth': 5, 'max_delta_step': 5, 'learning_rate': 0.1, 'gamma': 0.5, 'colsample_bytree': 0.8, 'colsample_bylevel': 0.9}\n",
      "\n",
      "Model with rank: 4\n",
      "Mean validation score: -6787729.55046 (std: 175230.67084)\n",
      "Parameters: {'subsample': 0.9, 'scale_pos_weight': 5, 'reg_lambda': 0.01, 'reg_alpha': 0.01, 'n_estimators': 100, 'min_child_weight': 1, 'max_depth': 5, 'max_delta_step': 10, 'learning_rate': 0.3, 'gamma': 0.7, 'colsample_bytree': 0.8, 'colsample_bylevel': 0.6}\n",
      "\n",
      "Model with rank: 5\n",
      "Mean validation score: -7795799.47863 (std: 185938.99685)\n",
      "Parameters: {'subsample': 0.6, 'scale_pos_weight': 3, 'reg_lambda': 1, 'reg_alpha': 0.1, 'n_estimators': 100, 'min_child_weight': 2, 'max_depth': 5, 'max_delta_step': 2, 'learning_rate': 0.3, 'gamma': 0.7, 'colsample_bytree': 0.6, 'colsample_bylevel': 0.9}\n",
      "\n"
     ]
    }
   ],
   "source": [
    "report(random_search.cv_results_,5)"
   ]
  },
  {
   "cell_type": "code",
   "execution_count": 93,
   "metadata": {},
   "outputs": [],
   "source": [
    "best_estimator=random_search.best_estimator_"
   ]
  },
  {
   "cell_type": "code",
   "execution_count": 94,
   "metadata": {},
   "outputs": [
    {
     "name": "stdout",
     "output_type": "stream",
     "text": [
      "[16:53:43] WARNING: C:/Users/Administrator/workspace/xgboost-win64_release_1.4.0/src/objective/regression_obj.cu:171: reg:linear is now deprecated in favor of reg:squarederror.\n"
     ]
    },
    {
     "data": {
      "text/plain": [
       "XGBRegressor(base_score=0.5, booster='gbtree', colsample_bylevel=0.8,\n",
       "             colsample_bynode=1, colsample_bytree=0.5, gamma=0.8, gpu_id=-1,\n",
       "             importance_type='gain', interaction_constraints='',\n",
       "             learning_rate=0.05, max_delta_step=0, max_depth=6,\n",
       "             min_child_weight=2, missing=nan, monotone_constraints='()',\n",
       "             n_estimators=1000, n_jobs=4, num_parallel_tree=1,\n",
       "             objective='reg:linear', random_state=0, reg_alpha=100,\n",
       "             reg_lambda=1, scale_pos_weight=8, subsample=0.7,\n",
       "             tree_method='exact', validate_parameters=1, verbosity=None)"
      ]
     },
     "execution_count": 94,
     "metadata": {},
     "output_type": "execute_result"
    }
   ],
   "source": [
    "best_estimator.fit(x_train,y_train)"
   ]
  },
  {
   "cell_type": "code",
   "execution_count": 95,
   "metadata": {},
   "outputs": [
    {
     "data": {
      "text/plain": [
       "array([2589.9905, 3801.7234, 1399.9396, ..., 3204.0247, 2780.8066,\n",
       "       3990.9297], dtype=float32)"
      ]
     },
     "execution_count": 95,
     "metadata": {},
     "output_type": "execute_result"
    }
   ],
   "source": [
    "best_estimator.predict(cf_test)"
   ]
  },
  {
   "cell_type": "code",
   "execution_count": null,
   "metadata": {},
   "outputs": [],
   "source": []
  }
 ],
 "metadata": {
  "kernelspec": {
   "display_name": "Python 3",
   "language": "python",
   "name": "python3"
  },
  "language_info": {
   "codemirror_mode": {
    "name": "ipython",
    "version": 3
   },
   "file_extension": ".py",
   "mimetype": "text/x-python",
   "name": "python",
   "nbconvert_exporter": "python",
   "pygments_lexer": "ipython3",
   "version": "3.7.4"
  }
 },
 "nbformat": 4,
 "nbformat_minor": 2
}
